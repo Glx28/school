{
 "cells": [
  {
   "cell_type": "markdown",
   "metadata": {},
   "source": [
    "# Handin 2 -- Gradient Descent\n",
    "\n",
    "\n",
    "The topic of this handin is Gradient Descent (GD), and the only external library needed\n",
    "should be numpy. Some tasks ask for some math, this can either be put into the notebook\n",
    "using markdown, or just shown on a paper when the handin is approved in the lab (show the steps, not just the answer).\n",
    "\n",
    "\n",
    "\n",
    "## How to deliver\n",
    "All handins should be approved in lab => That is, there is no uploading/email or anything like that.\n",
    "\n",
    "## Due date\n",
    "Should be approved in lab October 1, 2020 the latest.\n",
    "\n",
    "\n",
    "## What do I need to solve?\n",
    "All tasks labeled Muggle needs to be solved. The Wizard tasks are optional but solving them\n",
    "marks the way of a true ML wizard :)\n",
    "\n",
    "\n",
    "\n",
    "\n"
   ]
  },
  {
   "cell_type": "markdown",
   "metadata": {},
   "source": [
    "## Task 1a (Muggle)\n",
    "\n",
    "Solve for $\\alpha$ such that $y$ becomes 2.  (Taken from a math exam at BI Nydalen)\n",
    "\n",
    "1) $\\alpha x + y = 4$   \n",
    "2) $-x + 3y = 2$  \n",
    "\n",
    "## Task 1b (Muggle)\n",
    "\n",
    "$A \\in \\mathcal{R}^{(a \\times b)}$  \n",
    "$B \\in \\mathcal{R}^{(c \\times b)}$  \n",
    "$C \\in \\mathcal{R}^{(a \\times 1)}$  \n",
    "$D \\in \\mathcal{R}^{(1 \\times a)}$  \n",
    "$E \\in \\mathcal{R}^{(b \\times b)}$\n",
    "\n",
    "Determine if the following equations legal wrt. dim, and if they are legal, what dimention is the output?  \n",
    "(Note: $M^T$ means $M$ transposed).  \n",
    "\n",
    "1) $A B$  \n",
    "2) $A B^T$  \n",
    "3) $C D$  \n",
    "4) $C^T D^T$  \n",
    "5) $(A (E B)) D$   \n",
    "6) $((B E) A^T) C$   \n",
    "\n",
    "## Task 1c (Muggle)\n",
    "\n",
    "What is the derivative of the sigmoid function $\\sigma(z) = \\frac{1}{1 + e^{-z}}$?  \n"
   ]
  },
  {
   "cell_type": "markdown",
   "metadata": {},
   "source": [
    "## Gradient Descent\n",
    "Below is a simple vectorized impl. of GD that can be used as a starting point.  \n",
    "Please make sure you understand exactly HOW it works (so that you could have implemented one yourself)."
   ]
  },
  {
   "cell_type": "code",
   "execution_count": 1,
   "metadata": {
    "pycharm": {
     "is_executing": false
    }
   },
   "outputs": [
    {
     "name": "stdout",
     "text": [
      "The L1 error is: 3.86\n",
      "R^2: -0.82\n"
     ],
     "output_type": "stream"
    },
    {
     "data": {
      "text/plain": "<Figure size 432x288 with 1 Axes>",
      "image/png": "[encoded data removed]"
     },
     "metadata": {
      "needs_background": "light"
     },
     "output_type": "display_data"
    }
   ],
   "source": [
    "import numpy as np\n",
    "import matplotlib.pyplot as plt\n",
    "%matplotlib inline\n",
    "\n",
    "def predict(theta, xs): \n",
    "    return np.dot(xs, theta)\n",
    "\n",
    "\n",
    "def J_squared_residual(theta, xs, y):  \n",
    "    h = predict(theta, xs)\n",
    "   #heiiiiiderererfdsfere sdfadsds\n",
    "    sr = ((h - y)**2).sum()    \n",
    "    return sr\n",
    "\n",
    "def gradient_J_squared_residual(theta, xs, y):\n",
    "    h = predict(theta, xs) \n",
    "    grad = np.dot(xs.transpose(), (h - y)) \n",
    "    return grad\n",
    "\n",
    "\n",
    "# the dataset (already augmented so that we get a intercept coef)\n",
    "data_x = np.array([[1.0, 0.5], [1.0, 1.0], [1.0, 2.0]])\n",
    "data_y = np.array([1.0, 1.5, 2.5])\n",
    "n_features = data_x.shape[1]\n",
    "\n",
    "# variables we need \n",
    "theta = np.zeros((n_features, 1))\n",
    "learning_rate = 0.1\n",
    "m = data_x.shape[0]\n",
    "\n",
    "# run GD\n",
    "j_history = []\n",
    "n_iters = 10\n",
    "for it in range(n_iters):    \n",
    "    j = J_squared_residual(theta, data_x, data_y)\n",
    "    j_history.append(j)\n",
    "    \n",
    "    theta = theta - (learning_rate * (1/m) * gradient_J_squared_residual(theta, data_x, data_y))\n",
    "    \n",
    "\n",
    "# append the final result.\n",
    "j = J_squared_residual(theta, data_x, data_y)\n",
    "j_history.append(j)\n",
    "\n",
    "\n",
    "# find the L1 error.\n",
    "y_pred = predict(theta, data_x)\n",
    "l1_error = np.abs(y_pred - data_y).sum()\n",
    "print(\"The L1 error is: {:.2f}\".format(l1_error))\n",
    "\n",
    "# Find the R^2 \n",
    "# if the data is normalized: use the normalized data not the original data (task 3 hint).\n",
    "# https://en.wikipedia.org/wiki/Coefficient_of_determination\n",
    "u = ((data_y - y_pred)**2).sum()\n",
    "v = ((data_y - data_y.mean())** 2).sum()\n",
    "print(\"R^2: {:.2f}\".format(1 - (u/v)))\n",
    "\n",
    "\n",
    "# plot the result\n",
    "plt.plot(j_history)\n",
    "plt.title(\"J(theta) - History\")\n",
    "plt.ylabel('J(theta)')\n",
    "plt.xlabel('iterations')\n",
    "plt.show()\n"
   ]
  },
  {
   "cell_type": "markdown",
   "metadata": {},
   "source": [
    "## Task 2a (Wizard) -- Quadratic regression\n",
    "\n",
    "In the lecture we showed how the GD step for a linear regression.\n",
    "Show how the GD update equations would be if we instead using the following function:\n",
    "\n",
    "$f_{\\theta_0, \\theta_1}(x) = \\theta_0 x^2 + \\theta_1 x$\n",
    "\n",
    "\n",
    "## Task 2b (Wizard) -- Quadratic regression\n",
    "Implement the exponential loss function and show that it converges.\n"
   ]
  },
  {
   "cell_type": "code",
   "execution_count": 2,
   "metadata": {
    "pycharm": {
     "is_executing": false
    }
   },
   "outputs": [],
   "source": [
    "# Impl the Quadratic regression (use the GD example above as a template).\n"
   ]
  },
  {
   "cell_type": "markdown",
   "metadata": {},
   "source": [
    "## Task 3 -- House Price Prediction (Muggle)\n",
    "\n",
    "The task is to create a linear predictor that takes a set of features \n",
    "and predicts how much the house was sold for.  \n",
    "\n",
    "The metric to report (on the test set) should be the mean of the absolute error (L1 error)\n",
    "and the Coefficient of determination (R^2) (on the normalized data).\n",
    "(see: https://en.wikipedia.org/wiki/Coefficient_of_determination)\n",
    "\n",
    "**Grading:**\n",
    "* The R^2 score to pass (as a muggle) is R^2 > 0.90.\n",
    "* For a ML Wizard it is possible to get a R^2 score $\\approx$ 1.0\n",
    "\n",
    "\n",
    "### Dataset\n",
    "The dataset concist of three files: train.json, test.json and schools.txt.  \n",
    "Each line in 'schools.json' consist of the x,y variable of a school in the city.\n",
    "\n",
    "\n",
    "### Features\n",
    "* house_size - size of the house\n",
    "* build_year - year the house was built in\n",
    "* month - the month the house was sold (1 is jan, 12 is des) (category variable)\n",
    "* garden_size - size of garden, from 0 to 10.\n",
    "* x - the x coordinate of the house (centered around the city centre/downtown).\n",
    "* y - the y coordinate of the house (centered around the city centre/downtown).\n",
    "* color - the color of the house: 1 - black, 2 - white, 3 - red (category variable)\n",
    "* price -  **the  target variable for Task 3**\n",
    "\n",
    "Each line in the files is a json object and can be loaded using the code example given below.\n",
    "\n",
    "The sales person says that the euclidian distance to the closest school and the euclidian distance to downtown is known to be important :)\n",
    "\n",
    "### Flow\n",
    "To assist a bit, here is a suggested flow of the task (feel free to create more cells to help readability of the code):\n",
    "\n",
    "1. Load the data.\n",
    "2. Inspect the data using plots and looking the data.\n",
    "3. Generate features (such as one-hot encoding and feature engineering).\n",
    "4. Normalize the data.\n",
    "5. Train the model using GD.\n",
    "6. Test on the test set.\n",
    "\n"
   ]
  },
  {
   "cell_type": "code",
   "execution_count": 3,
   "metadata": {
    "pycharm": {
     "is_executing": false
    }
   },
   "outputs": [
    {
     "traceback": [
      "\u001b[0;31m---------------------------------------------------------------------------\u001b[0m",
      "\u001b[0;31mAssertionError\u001b[0m                            Traceback (most recent call last)",
      "\u001b[0;32m<ipython-input-3-6428c4aa2d25>\u001b[0m in \u001b[0;36m<module>\u001b[0;34m\u001b[0m\n\u001b[1;32m     18\u001b[0m \u001b[0mpath_to_test\u001b[0m \u001b[0;34m=\u001b[0m \u001b[0mos\u001b[0m\u001b[0;34m.\u001b[0m\u001b[0mpath\u001b[0m\u001b[0;34m.\u001b[0m\u001b[0mjoin\u001b[0m\u001b[0;34m(\u001b[0m\u001b[0mpath_to_dataset\u001b[0m\u001b[0;34m,\u001b[0m \u001b[0;34m\"test.json\"\u001b[0m\u001b[0;34m)\u001b[0m\u001b[0;34m\u001b[0m\u001b[0;34m\u001b[0m\u001b[0m\n\u001b[1;32m     19\u001b[0m \u001b[0;34m\u001b[0m\u001b[0m\n\u001b[0;32m---> 20\u001b[0;31m \u001b[0;32massert\u001b[0m \u001b[0mos\u001b[0m\u001b[0;34m.\u001b[0m\u001b[0mpath\u001b[0m\u001b[0;34m.\u001b[0m\u001b[0misfile\u001b[0m\u001b[0;34m(\u001b[0m\u001b[0mpath_to_test\u001b[0m\u001b[0;34m)\u001b[0m\u001b[0;34m\u001b[0m\u001b[0;34m\u001b[0m\u001b[0m\n\u001b[0m\u001b[1;32m     21\u001b[0m \u001b[0;34m\u001b[0m\u001b[0m\n\u001b[1;32m     22\u001b[0m \u001b[0;34m\u001b[0m\u001b[0m\n",
      "\u001b[0;31mAssertionError\u001b[0m: "
     ],
     "ename": "AssertionError",
     "evalue": "",
     "output_type": "error"
    }
   ],
   "source": [
    "# loading the test dataset (extend to load both the training data and the schools)\n",
    "import os\n",
    "import json\n",
    "\n",
    "\n",
    "def load_line_json(path):\n",
    "    dataset = []\n",
    "    with open(path, \"r\") as fp:\n",
    "        for line in fp:\n",
    "            example = json.loads(line)\n",
    "            dataset.append(example)\n",
    "    \n",
    "    print(\"loaded dataset, with {} examples from: {}.\".format(len(dataset), path))\n",
    "    return dataset\n",
    "        \n",
    "# the dataset for handin2 is found on canvas.\n",
    "path_to_dataset = \"/home/sondre/Dropbox/edu/ml_intro_2020/lecture2/data\"\n",
    "path_to_test = os.path.join(path_to_dataset, \"test.json\")\n",
    "\n",
    "assert os.path.isfile(path_to_test)\n",
    "\n",
    "\n",
    "test_dataset = load_line_json(path_to_test)\n",
    "print(\"showing the first example:\")\n",
    "print(test_dataset[0])\n",
    "\n"
   ]
  },
  {
   "cell_type": "code",
   "execution_count": null,
   "metadata": {
    "pycharm": {
     "is_executing": false
    }
   },
   "outputs": [],
   "source": [
    "# Investigate the data"
   ]
  },
  {
   "cell_type": "code",
   "execution_count": null,
   "metadata": {
    "pycharm": {
     "is_executing": false
    }
   },
   "outputs": [],
   "source": [
    "# Generate features (such as one-hot encoding and feature engineering)."
   ]
  },
  {
   "cell_type": "code",
   "execution_count": null,
   "metadata": {
    "pycharm": {
     "is_executing": false
    }
   },
   "outputs": [],
   "source": [
    "# Normalize the data."
   ]
  },
  {
   "cell_type": "code",
   "execution_count": null,
   "metadata": {
    "pycharm": {
     "is_executing": false
    }
   },
   "outputs": [],
   "source": [
    "# Train the model using GD "
   ]
  },
  {
   "cell_type": "code",
   "execution_count": null,
   "metadata": {
    "pycharm": {
     "is_executing": false
    }
   },
   "outputs": [],
   "source": [
    "# Find the L1 error on the test set and the R^2 score."
   ]
  },
  {
   "cell_type": "markdown",
   "metadata": {},
   "source": [
    "## Task 4a (Muggle) -- Find the beta coefficients.\n",
    "\n",
    "\n",
    "Since the variables are normalized we can find the beta coefficient (also called the standarized coefficients) for feature $i$ using the formula:  \n",
    "$\\beta_i = \\frac{|\\theta_i|}{\\sum_j |\\theta_j|}$\n",
    "\n",
    "1) Find the beta coefficients.  \n",
    "2) Since some of the features are one-hot encoded we need to sum over the dimensions belonging to a variable.  \n",
    "3) Print the features with names and their $\\beta$ coef in a sorted order, from biggest to smallest.\n",
    "\n"
   ]
  },
  {
   "cell_type": "code",
   "execution_count": null,
   "metadata": {
    "pycharm": {
     "is_executing": false
    }
   },
   "outputs": [],
   "source": [
    "# find the beta coef's\n"
   ]
  },
  {
   "cell_type": "markdown",
   "metadata": {},
   "source": [
    "## Task 4b (Muggle) -- Explainability\n",
    "\n",
    "What can we say about the model by looking that the beta coefficients of the model?\n",
    "For instance:  \n",
    "\n",
    "* What month is the best to sell the house in?\n",
    "* Is the color of the house relevant?\n",
    "* How does the age of the house impact the price? \n",
    "* If a new school got located right by my house, would my house go up in value or down?"
   ]
  },
  {
   "cell_type": "code",
   "execution_count": null,
   "metadata": {
    "pycharm": {
     "is_executing": false
    }
   },
   "outputs": [],
   "source": [
    "# "
   ]
  },
  {
   "cell_type": "markdown",
   "metadata": {},
   "source": [
    "## Task 4c (Wizard) -- Explainability 2\n",
    "\n",
    "The standard coefficients/beta coefficients does not take into account the scale of the features.  \n",
    "As such it might be hard to determine exactly how much they impact the prediction.  \n",
    "\n",
    "Suggest a way to determine how important the different features are to the model and\n",
    "test it.\n",
    "\n",
    "\n"
   ]
  },
  {
   "cell_type": "code",
   "execution_count": null,
   "metadata": {
    "pycharm": {
     "is_executing": false
    }
   },
   "outputs": [],
   "source": []
  },
  {
   "cell_type": "markdown",
   "metadata": {},
   "source": [
    "## Task 5 (Wizard) -- Logistic Regression\n",
    "\n",
    "Transform the houseprice dataset into a classification problem by assigning:  \n",
    "* y=1 for houses that price > 2500\n",
    "* y=0 else.\n",
    "\n",
    "Then use logistic regression to classify each house into the expensive\n",
    "class (price > 2500 => y=1) or not (y=0).\n",
    "\n",
    "Most of the code from Task 3 should be re-used here.\n"
   ]
  },
  {
   "cell_type": "code",
   "execution_count": null,
   "metadata": {
    "pycharm": {
     "is_executing": false
    }
   },
   "outputs": [],
   "source": [
    "# logistic regression"
   ]
  }
 ],
 "metadata": {
  "kernelspec": {
   "display_name": "Python 3",
   "language": "python",
   "name": "python3"
  },
  "language_info": {
   "codemirror_mode": {
    "name": "ipython",
    "version": 3
   },
   "file_extension": ".py",
   "mimetype": "text/x-python",
   "name": "python",
   "nbconvert_exporter": "python",
   "pygments_lexer": "ipython3",
   "version": "3.8.3"
  },
  "pycharm": {
   "stem_cell": {
    "cell_type": "raw",
    "source": [],
    "metadata": {
     "collapsed": false
    }
   }
  }
 },
 "nbformat": 4,
 "nbformat_minor": 4
}